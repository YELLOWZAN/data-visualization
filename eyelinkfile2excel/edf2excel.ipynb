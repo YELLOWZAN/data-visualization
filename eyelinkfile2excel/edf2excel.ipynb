{
 "cells": [
  {
   "cell_type": "markdown",
   "metadata": {},
   "source": [
    "https://scott-huberty.github.io/eyelinkio/usage.html"
   ]
  },
  {
   "cell_type": "code",
   "execution_count": null,
   "metadata": {},
   "outputs": [
    {
     "name": "stdout",
     "output_type": "stream",
     "text": [
      "<EDF | 070103_1.edf> \n",
      "  Version: EYELINK II 1 \n",
      "  Eye: BINOCULAR \n",
      "  Pupil unit: PUPIL_DIAMETER \n",
      "  Sampling frequency: 2000.0 Hz \n",
      "  Calibrations: 2 \n",
      "  Length: 32.2255 seconds \n",
      "\n"
     ]
    }
   ],
   "source": [
    "import eyelinkio\n",
    "from eyelinkio.utils import _get_test_fnames \n",
    "\n",
    "fname = _get_test_fnames()[0]\n",
    "edf_file = eyelinkio.edf.read_edf(r\"E:\\my_openai_api\\070103_1.edf\")\n",
    "print(edf_file)"
   ]
  },
  {
   "cell_type": "code",
   "execution_count": 3,
   "metadata": {},
   "outputs": [
    {
     "name": "stdout",
     "output_type": "stream",
     "text": [
      "dict_keys(['info', 'discrete', 'times', 'samples'])\n",
      "dict_keys(['meas_date', 'version', 'camera', 'serial', 'camera_config', 'sfreq', 'ps_units', 'eye', 'sample_fields', 'edfapi_version', 'screen_coords', 'calibrations', 'filename'])\n",
      "dict_keys(['messages', 'buttons', 'inputs', 'blinks', 'saccades', 'fixations'])\n",
      "[{'onset': np.float64(0.043), 'eye': 'left', 'validation': array([( 640., 512., 0.48, -22.1, -0.7), ( 640.,  87., 0.24,  -5.9, -9.3),\n",
      "       ( 640., 936., 0.56,  24.7, -7.2), (  77., 512., 0.21,  -3.7,  8.9),\n",
      "       (1202., 512., 0.54, -23.4, -8.4)],\n",
      "      dtype=[('point_x', '<f8'), ('point_y', '<f8'), ('offset', '<f8'), ('diff_x', '<f8'), ('diff_y', '<f8')]), 'model': 'HV5'}, {'onset': np.float64(0.043), 'eye': 'right', 'validation': array([( 640., 512., 0.34,  13.8,  -7.2),\n",
      "       ( 640.,  87., 0.29,   7. ,  11.3),\n",
      "       ( 640., 936., 0.57,   6.4,  25.3),\n",
      "       (  77., 512., 0.53, -24.3,  -2.3),\n",
      "       (1202., 512., 0.82,   6. , -37.1)],\n",
      "      dtype=[('point_x', '<f8'), ('point_y', '<f8'), ('offset', '<f8'), ('diff_x', '<f8'), ('diff_y', '<f8')]), 'model': 'HV5'}]\n"
     ]
    }
   ],
   "source": [
    "print(edf_file.keys())\n",
    "print(edf_file['info'].keys())\n",
    "print(edf_file[\"discrete\"].keys())\n",
    "print(edf_file['info']['calibrations'])\n"
   ]
  },
  {
   "cell_type": "code",
   "execution_count": null,
   "metadata": {},
   "outputs": [
    {
     "name": "stdout",
     "output_type": "stream",
     "text": [
      "Creating RawArray with float64 data, n_channels=6, n_times=64451\n",
      "    Range : 0 ... 64450 =      0.000 ...    32.225 secs\n",
      "Ready.\n"
     ]
    }
   ],
   "source": [
    "dfs = edf_file.to_pandas()"
   ]
  },
  {
   "cell_type": "code",
   "execution_count": null,
   "metadata": {},
   "outputs": [
    {
     "data": {
      "text/plain": [
       "dict_keys(['discrete', 'samples', 'calibrations'])"
      ]
     },
     "execution_count": 7,
     "metadata": {},
     "output_type": "execute_result"
    }
   ],
   "source": [
    "dfs.keys()\n",
    "#奇怪，info不见了？"
   ]
  },
  {
   "cell_type": "code",
   "execution_count": 9,
   "metadata": {},
   "outputs": [
    {
     "data": {
      "text/plain": [
       "{'messages':       stime                                                msg\n",
       " 0    0.0000                              RECCFG CR 2000 2 1 LR\n",
       " 1    0.0000                                    ELCLCFG BTABLER\n",
       " 2    0.0000              GAZE_COORDS 0.00 0.00 1279.00 1023.00\n",
       " 3    0.0000                    THRESHOLDS L 121 216  R 136 223\n",
       " 4    0.0000                      ELCL_WINDOW_SIZES 160 160 0 0\n",
       " ..      ...                                                ...\n",
       " 74   0.0435  ELCL_EFIT_PARAMS 1.01 4.00  0.15 0.05  0.65 0....\n",
       " 75   0.0435                      !MODE RECORD CR 2000 2 1 LR\\n\n",
       " 76   2.1465                                              start\n",
       " 77   2.1465                                                  0\n",
       " 78  32.1475                                                end\n",
       " \n",
       " [79 rows x 2 columns],\n",
       " 'buttons':        stime  buttons\n",
       " 0   0.000500      0.0\n",
       " 1   0.043215      0.0\n",
       " 2   0.043334      0.0\n",
       " 3   0.043500      0.0\n",
       " 4   0.043500      0.0\n",
       " 5  32.225000      0.0,\n",
       " 'inputs':        stime  input\n",
       " 0   0.000500  127.0\n",
       " 1   0.043215  127.0\n",
       " 2   0.043334  127.0\n",
       " 3   0.043500  127.0\n",
       " 4   0.043500  127.0\n",
       " 5  32.225000  127.0,\n",
       " 'blinks':          eye   stime   etime\n",
       " 0   LEFT_EYE  0.0015  0.0430\n",
       " 1  RIGHT_EYE  0.0015  0.0430\n",
       " 2  RIGHT_EYE  2.2265  2.3225\n",
       " 3   LEFT_EYE  2.2215  2.3365,\n",
       " 'saccades':           eye    stime    etime           sxp           syp           exp  \\\n",
       " 0    LEFT_EYE   0.0015   0.0430  1.000000e+08  1.000000e+08  1.000000e+08   \n",
       " 1   RIGHT_EYE   0.0015   0.0430  1.000000e+08  1.000000e+08  1.000000e+08   \n",
       " 2   RIGHT_EYE   0.2755   0.2925  6.524000e+02  4.637000e+02  6.151000e+02   \n",
       " 3    LEFT_EYE   0.2735   0.2945  6.185000e+02  4.845000e+02  5.910000e+02   \n",
       " 4   RIGHT_EYE   2.2065   2.3595  6.240000e+02  5.039000e+02  5.839000e+02   \n",
       " 5    LEFT_EYE   2.2035   2.3705  6.441000e+02  5.188000e+02  6.294000e+02   \n",
       " 6    LEFT_EYE   3.9815   3.9935  6.360000e+02  5.060000e+02  6.739000e+02   \n",
       " 7   RIGHT_EYE   3.9795   3.9955  6.272000e+02  4.924000e+02  6.750000e+02   \n",
       " 8   RIGHT_EYE   4.1295   4.1405  6.648000e+02  4.740000e+02  6.312000e+02   \n",
       " 9    LEFT_EYE   4.1265   4.1455  6.734000e+02  4.933000e+02  6.348000e+02   \n",
       " 10  RIGHT_EYE  14.1245  14.1285  6.371000e+02  4.820000e+02  6.281000e+02   \n",
       " 11   LEFT_EYE  14.1205  14.1305  6.473000e+02  5.006000e+02  6.258000e+02   \n",
       " 12   LEFT_EYE  15.8265  15.8385  6.457000e+02  5.025000e+02  6.305000e+02   \n",
       " 13  RIGHT_EYE  15.8285  15.8455  6.300000e+02  4.859000e+02  6.358000e+02   \n",
       " 14  RIGHT_EYE  16.4005  16.4145  6.314000e+02  4.541000e+02  6.257000e+02   \n",
       " 15   LEFT_EYE  16.3955  16.4155  6.460000e+02  4.634000e+02  6.325000e+02   \n",
       " 16   LEFT_EYE  17.2485  17.2625  6.314000e+02  5.117000e+02  6.681000e+02   \n",
       " 17  RIGHT_EYE  17.2485  17.2635  6.184000e+02  4.893000e+02  6.625000e+02   \n",
       " 18  RIGHT_EYE  17.6405  17.6475  6.470000e+02  4.903000e+02  6.209000e+02   \n",
       " 19   LEFT_EYE  17.6385  17.6515  6.584000e+02  5.114000e+02  6.268000e+02   \n",
       " 20   LEFT_EYE  18.0715  18.0755  6.310000e+02  5.130000e+02  6.206000e+02   \n",
       " 21   LEFT_EYE  18.3715  18.3805  6.275000e+02  5.167000e+02  6.551000e+02   \n",
       " 22  RIGHT_EYE  18.3695  18.3835  6.090000e+02  4.983000e+02  6.494000e+02   \n",
       " 23  RIGHT_EYE  27.6015  27.6125  6.202000e+02  5.009000e+02  6.543000e+02   \n",
       " 24   LEFT_EYE  27.5985  27.6135  6.272000e+02  5.138000e+02  6.589000e+02   \n",
       " 25  RIGHT_EYE  27.9995  28.0065  6.421000e+02  5.141000e+02  6.236000e+02   \n",
       " 26   LEFT_EYE  27.9955  28.0085  6.598000e+02  5.412000e+02  6.253000e+02   \n",
       " 27   LEFT_EYE  30.2575  30.2695  6.358000e+02  5.064000e+02  5.971000e+02   \n",
       " 28  RIGHT_EYE  30.2605  30.2725  6.158000e+02  4.885000e+02  5.891000e+02   \n",
       " 29   LEFT_EYE  30.5875  30.5985  6.097000e+02  4.903000e+02  6.424000e+02   \n",
       " 30  RIGHT_EYE  30.5835  30.5985  5.898000e+02  4.757000e+02  6.314000e+02   \n",
       " 31   LEFT_EYE  30.9275  30.9455  6.432000e+02  4.869000e+02  6.013000e+02   \n",
       " 32  RIGHT_EYE  30.9335  30.9475  6.242000e+02  4.750000e+02  5.891000e+02   \n",
       " 33   LEFT_EYE  31.1775  31.1925  6.048000e+02  5.107000e+02  6.422000e+02   \n",
       " 34  RIGHT_EYE  31.1775  31.1925  5.843000e+02  4.941000e+02  6.282000e+02   \n",
       " \n",
       "              eyp          pv  \n",
       " 0   1.000000e+08    0.000000  \n",
       " 1   1.000000e+08    0.000000  \n",
       " 2   5.028000e+02  116.900002  \n",
       " 3   5.267000e+02  121.199997  \n",
       " 4   4.385000e+02  396.399994  \n",
       " 5   4.875000e+02  322.200012  \n",
       " 6   4.997000e+02   80.800003  \n",
       " 7   4.792000e+02   91.699997  \n",
       " 8   4.831000e+02   91.199997  \n",
       " 9   4.946000e+02   92.199997  \n",
       " 10  4.797000e+02   60.799999  \n",
       " 11  5.048000e+02   53.200001  \n",
       " 12  4.735000e+02   77.699997  \n",
       " 13  4.643000e+02   77.800003  \n",
       " 14  4.904000e+02   64.000000  \n",
       " 15  5.076000e+02   91.000000  \n",
       " 16  5.102000e+02   86.099998  \n",
       " 17  4.873000e+02   91.400002  \n",
       " 18  4.904000e+02   62.200001  \n",
       " 19  5.135000e+02   72.699997  \n",
       " 20  5.167000e+02   39.400002  \n",
       " 21  5.133000e+02   76.800003  \n",
       " 22  4.898000e+02   87.599998  \n",
       " 23  5.107000e+02   98.000000  \n",
       " 24  5.332000e+02   91.800003  \n",
       " 25  5.042000e+02   65.500000  \n",
       " 26  5.129000e+02   88.599998  \n",
       " 27  5.085000e+02   82.199997  \n",
       " 28  4.804000e+02   77.199997  \n",
       " 29  4.856000e+02   73.400002  \n",
       " 30  4.670000e+02   94.199997  \n",
       " 31  5.024000e+02  106.599998  \n",
       " 32  4.869000e+02   80.800003  \n",
       " 33  4.979000e+02   81.599998  \n",
       " 34  4.786000e+02   78.800003  ,\n",
       " 'fixations':           eye    stime    etime         axp         ayp\n",
       " 0    LEFT_EYE   0.0505   0.2725  620.200012  481.200012\n",
       " 1   RIGHT_EYE   0.0505   0.2745  652.799988  458.600006\n",
       " 2    LEFT_EYE   0.2955   2.2025  629.700012  521.700012\n",
       " 3   RIGHT_EYE   0.2935   2.2055  621.000000  499.100006\n",
       " 4   RIGHT_EYE   2.3605   3.9785  625.500000  485.200012\n",
       " 5    LEFT_EYE   2.3715   3.9805  638.599976  505.299988\n",
       " 6    LEFT_EYE   3.9945   4.1255  671.700012  493.899994\n",
       " 7   RIGHT_EYE   3.9965   4.1285  669.400024  482.899994\n",
       " 8    LEFT_EYE   4.1465  14.1195  644.400024  509.100006\n",
       " 9   RIGHT_EYE   4.1415  14.1235  636.700012  490.500000\n",
       " 10   LEFT_EYE  14.1315  15.8255  637.700012  502.500000\n",
       " 11  RIGHT_EYE  14.1295  15.8275  625.099976  484.799988\n",
       " 12   LEFT_EYE  15.8395  16.3945  644.099976  465.500000\n",
       " 13  RIGHT_EYE  15.8465  16.3995  634.400024  450.200012\n",
       " 14   LEFT_EYE  16.4165  17.2475  634.799988  510.000000\n",
       " 15  RIGHT_EYE  16.4155  17.2475  621.599976  491.399994\n",
       " 16   LEFT_EYE  17.2635  17.6375  661.000000  510.600006\n",
       " 17  RIGHT_EYE  17.2645  17.6395  647.000000  492.200012\n",
       " 18   LEFT_EYE  17.6525  18.0705  636.099976  514.299988\n",
       " 19  RIGHT_EYE  17.6485  18.3685  618.599976  494.100006\n",
       " 20   LEFT_EYE  18.0765  18.3705  625.400024  513.700012\n",
       " 21   LEFT_EYE  18.3815  27.5975  642.799988  515.799988\n",
       " 22  RIGHT_EYE  18.3845  27.6005  625.599976  496.899994\n",
       " 23   LEFT_EYE  27.6145  27.9945  658.500000  539.900024\n",
       " 24  RIGHT_EYE  27.6135  27.9985  645.900024  517.700012\n",
       " 25   LEFT_EYE  28.0095  30.2565  634.799988  508.100006\n",
       " 26  RIGHT_EYE  28.0075  30.2595  618.400024  492.299988\n",
       " 27  RIGHT_EYE  30.2735  30.5825  586.799988  472.000000\n",
       " 28   LEFT_EYE  30.2705  30.5865  605.700012  491.799988\n",
       " 29   LEFT_EYE  30.5995  30.9265  644.599976  488.799988\n",
       " 30  RIGHT_EYE  30.5995  30.9325  623.400024  471.700012\n",
       " 31   LEFT_EYE  30.9465  31.1765  605.799988  507.899994\n",
       " 32  RIGHT_EYE  30.9485  31.1765  587.000000  491.299988\n",
       " 33   LEFT_EYE  31.1935  32.2245  644.700012  501.799988\n",
       " 34  RIGHT_EYE  31.1935  32.2245  621.500000  486.500000}"
      ]
     },
     "execution_count": 9,
     "metadata": {},
     "output_type": "execute_result"
    }
   ],
   "source": [
    "dfs.get('discrete')"
   ]
  },
  {
   "cell_type": "code",
   "execution_count": 10,
   "metadata": {},
   "outputs": [
    {
     "data": {
      "application/vnd.microsoft.datawrangler.viewer.v0+json": {
       "columns": [
        {
         "name": "index",
         "rawType": "int64",
         "type": "integer"
        },
        {
         "name": "xpos_left",
         "rawType": "float64",
         "type": "float"
        },
        {
         "name": "xpos_right",
         "rawType": "float64",
         "type": "float"
        },
        {
         "name": "ypos_left",
         "rawType": "float64",
         "type": "float"
        },
        {
         "name": "ypos_right",
         "rawType": "float64",
         "type": "float"
        },
        {
         "name": "ps_left",
         "rawType": "float64",
         "type": "float"
        },
        {
         "name": "ps_right",
         "rawType": "float64",
         "type": "float"
        }
       ],
       "conversionMethod": "pd.DataFrame",
       "ref": "2f1b683f-20d9-4b2a-a665-73faed171bff",
       "rows": [
        [
         "0",
         null,
         null,
         null,
         null,
         "0.0",
         "0.0"
        ],
        [
         "1",
         null,
         null,
         null,
         null,
         "0.0",
         "0.0"
        ],
        [
         "2",
         null,
         null,
         null,
         null,
         "0.0",
         "0.0"
        ],
        [
         "3",
         null,
         null,
         null,
         null,
         "0.0",
         "0.0"
        ],
        [
         "4",
         null,
         null,
         null,
         null,
         "0.0",
         "0.0"
        ],
        [
         "5",
         null,
         null,
         null,
         null,
         "0.0",
         "0.0"
        ],
        [
         "6",
         null,
         null,
         null,
         null,
         "0.0",
         "0.0"
        ],
        [
         "7",
         null,
         null,
         null,
         null,
         "0.0",
         "0.0"
        ],
        [
         "8",
         null,
         null,
         null,
         null,
         "0.0",
         "0.0"
        ],
        [
         "9",
         null,
         null,
         null,
         null,
         "0.0",
         "0.0"
        ],
        [
         "10",
         null,
         null,
         null,
         null,
         "0.0",
         "0.0"
        ],
        [
         "11",
         null,
         null,
         null,
         null,
         "0.0",
         "0.0"
        ],
        [
         "12",
         null,
         null,
         null,
         null,
         "0.0",
         "0.0"
        ],
        [
         "13",
         null,
         null,
         null,
         null,
         "0.0",
         "0.0"
        ],
        [
         "14",
         null,
         null,
         null,
         null,
         "0.0",
         "0.0"
        ],
        [
         "15",
         null,
         null,
         null,
         null,
         "0.0",
         "0.0"
        ],
        [
         "16",
         null,
         null,
         null,
         null,
         "0.0",
         "0.0"
        ],
        [
         "17",
         null,
         null,
         null,
         null,
         "0.0",
         "0.0"
        ],
        [
         "18",
         null,
         null,
         null,
         null,
         "0.0",
         "0.0"
        ],
        [
         "19",
         null,
         null,
         null,
         null,
         "0.0",
         "0.0"
        ],
        [
         "20",
         null,
         null,
         null,
         null,
         "0.0",
         "0.0"
        ],
        [
         "21",
         null,
         null,
         null,
         null,
         "0.0",
         "0.0"
        ],
        [
         "22",
         null,
         null,
         null,
         null,
         "0.0",
         "0.0"
        ],
        [
         "23",
         null,
         null,
         null,
         null,
         "0.0",
         "0.0"
        ],
        [
         "24",
         null,
         null,
         null,
         null,
         "0.0",
         "0.0"
        ],
        [
         "25",
         null,
         null,
         null,
         null,
         "0.0",
         "0.0"
        ],
        [
         "26",
         null,
         null,
         null,
         null,
         "0.0",
         "0.0"
        ],
        [
         "27",
         null,
         null,
         null,
         null,
         "0.0",
         "0.0"
        ],
        [
         "28",
         null,
         null,
         null,
         null,
         "0.0",
         "0.0"
        ],
        [
         "29",
         null,
         null,
         null,
         null,
         "0.0",
         "0.0"
        ],
        [
         "30",
         null,
         null,
         null,
         null,
         "0.0",
         "0.0"
        ],
        [
         "31",
         null,
         null,
         null,
         null,
         "0.0",
         "0.0"
        ],
        [
         "32",
         null,
         null,
         null,
         null,
         "0.0",
         "0.0"
        ],
        [
         "33",
         null,
         null,
         null,
         null,
         "0.0",
         "0.0"
        ],
        [
         "34",
         null,
         null,
         null,
         null,
         "0.0",
         "0.0"
        ],
        [
         "35",
         null,
         null,
         null,
         null,
         "0.0",
         "0.0"
        ],
        [
         "36",
         null,
         null,
         null,
         null,
         "0.0",
         "0.0"
        ],
        [
         "37",
         null,
         null,
         null,
         null,
         "0.0",
         "0.0"
        ],
        [
         "38",
         null,
         null,
         null,
         null,
         "0.0",
         "0.0"
        ],
        [
         "39",
         null,
         null,
         null,
         null,
         "0.0",
         "0.0"
        ],
        [
         "40",
         null,
         null,
         null,
         null,
         "0.0",
         "0.0"
        ],
        [
         "41",
         null,
         null,
         null,
         null,
         "0.0",
         "0.0"
        ],
        [
         "42",
         null,
         null,
         null,
         null,
         "0.0",
         "0.0"
        ],
        [
         "43",
         null,
         null,
         null,
         null,
         "0.0",
         "0.0"
        ],
        [
         "44",
         null,
         null,
         null,
         null,
         "0.0",
         "0.0"
        ],
        [
         "45",
         null,
         null,
         null,
         null,
         "0.0",
         "0.0"
        ],
        [
         "46",
         null,
         null,
         null,
         null,
         "0.0",
         "0.0"
        ],
        [
         "47",
         null,
         null,
         null,
         null,
         "0.0",
         "0.0"
        ],
        [
         "48",
         null,
         null,
         null,
         null,
         "0.0",
         "0.0"
        ],
        [
         "49",
         null,
         null,
         null,
         null,
         "0.0",
         "0.0"
        ]
       ],
       "shape": {
        "columns": 6,
        "rows": 64451
       }
      },
      "text/html": [
       "<div>\n",
       "<style scoped>\n",
       "    .dataframe tbody tr th:only-of-type {\n",
       "        vertical-align: middle;\n",
       "    }\n",
       "\n",
       "    .dataframe tbody tr th {\n",
       "        vertical-align: top;\n",
       "    }\n",
       "\n",
       "    .dataframe thead th {\n",
       "        text-align: right;\n",
       "    }\n",
       "</style>\n",
       "<table border=\"1\" class=\"dataframe\">\n",
       "  <thead>\n",
       "    <tr style=\"text-align: right;\">\n",
       "      <th></th>\n",
       "      <th>xpos_left</th>\n",
       "      <th>xpos_right</th>\n",
       "      <th>ypos_left</th>\n",
       "      <th>ypos_right</th>\n",
       "      <th>ps_left</th>\n",
       "      <th>ps_right</th>\n",
       "    </tr>\n",
       "  </thead>\n",
       "  <tbody>\n",
       "    <tr>\n",
       "      <th>0</th>\n",
       "      <td>NaN</td>\n",
       "      <td>NaN</td>\n",
       "      <td>NaN</td>\n",
       "      <td>NaN</td>\n",
       "      <td>0.0</td>\n",
       "      <td>0.0</td>\n",
       "    </tr>\n",
       "    <tr>\n",
       "      <th>1</th>\n",
       "      <td>NaN</td>\n",
       "      <td>NaN</td>\n",
       "      <td>NaN</td>\n",
       "      <td>NaN</td>\n",
       "      <td>0.0</td>\n",
       "      <td>0.0</td>\n",
       "    </tr>\n",
       "    <tr>\n",
       "      <th>2</th>\n",
       "      <td>NaN</td>\n",
       "      <td>NaN</td>\n",
       "      <td>NaN</td>\n",
       "      <td>NaN</td>\n",
       "      <td>0.0</td>\n",
       "      <td>0.0</td>\n",
       "    </tr>\n",
       "    <tr>\n",
       "      <th>3</th>\n",
       "      <td>NaN</td>\n",
       "      <td>NaN</td>\n",
       "      <td>NaN</td>\n",
       "      <td>NaN</td>\n",
       "      <td>0.0</td>\n",
       "      <td>0.0</td>\n",
       "    </tr>\n",
       "    <tr>\n",
       "      <th>4</th>\n",
       "      <td>NaN</td>\n",
       "      <td>NaN</td>\n",
       "      <td>NaN</td>\n",
       "      <td>NaN</td>\n",
       "      <td>0.0</td>\n",
       "      <td>0.0</td>\n",
       "    </tr>\n",
       "    <tr>\n",
       "      <th>...</th>\n",
       "      <td>...</td>\n",
       "      <td>...</td>\n",
       "      <td>...</td>\n",
       "      <td>...</td>\n",
       "      <td>...</td>\n",
       "      <td>...</td>\n",
       "    </tr>\n",
       "    <tr>\n",
       "      <th>64446</th>\n",
       "      <td>643.799988</td>\n",
       "      <td>623.299988</td>\n",
       "      <td>506.000000</td>\n",
       "      <td>488.000000</td>\n",
       "      <td>4920.0</td>\n",
       "      <td>4132.0</td>\n",
       "    </tr>\n",
       "    <tr>\n",
       "      <th>64447</th>\n",
       "      <td>643.700012</td>\n",
       "      <td>623.599976</td>\n",
       "      <td>505.899994</td>\n",
       "      <td>489.600006</td>\n",
       "      <td>4927.0</td>\n",
       "      <td>4129.0</td>\n",
       "    </tr>\n",
       "    <tr>\n",
       "      <th>64448</th>\n",
       "      <td>643.099976</td>\n",
       "      <td>624.099976</td>\n",
       "      <td>506.100006</td>\n",
       "      <td>491.100006</td>\n",
       "      <td>4935.0</td>\n",
       "      <td>4125.0</td>\n",
       "    </tr>\n",
       "    <tr>\n",
       "      <th>64449</th>\n",
       "      <td>642.700012</td>\n",
       "      <td>624.299988</td>\n",
       "      <td>506.299988</td>\n",
       "      <td>492.500000</td>\n",
       "      <td>4936.0</td>\n",
       "      <td>4123.0</td>\n",
       "    </tr>\n",
       "    <tr>\n",
       "      <th>64450</th>\n",
       "      <td>642.000000</td>\n",
       "      <td>624.799988</td>\n",
       "      <td>506.500000</td>\n",
       "      <td>493.200012</td>\n",
       "      <td>4936.0</td>\n",
       "      <td>4123.0</td>\n",
       "    </tr>\n",
       "  </tbody>\n",
       "</table>\n",
       "<p>64451 rows × 6 columns</p>\n",
       "</div>"
      ],
      "text/plain": [
       "        xpos_left  xpos_right   ypos_left  ypos_right  ps_left  ps_right\n",
       "0             NaN         NaN         NaN         NaN      0.0       0.0\n",
       "1             NaN         NaN         NaN         NaN      0.0       0.0\n",
       "2             NaN         NaN         NaN         NaN      0.0       0.0\n",
       "3             NaN         NaN         NaN         NaN      0.0       0.0\n",
       "4             NaN         NaN         NaN         NaN      0.0       0.0\n",
       "...           ...         ...         ...         ...      ...       ...\n",
       "64446  643.799988  623.299988  506.000000  488.000000   4920.0    4132.0\n",
       "64447  643.700012  623.599976  505.899994  489.600006   4927.0    4129.0\n",
       "64448  643.099976  624.099976  506.100006  491.100006   4935.0    4125.0\n",
       "64449  642.700012  624.299988  506.299988  492.500000   4936.0    4123.0\n",
       "64450  642.000000  624.799988  506.500000  493.200012   4936.0    4123.0\n",
       "\n",
       "[64451 rows x 6 columns]"
      ]
     },
     "execution_count": 10,
     "metadata": {},
     "output_type": "execute_result"
    }
   ],
   "source": [
    "dfs.get('samples')"
   ]
  },
  {
   "cell_type": "code",
   "execution_count": 11,
   "metadata": {},
   "outputs": [
    {
     "data": {
      "application/vnd.microsoft.datawrangler.viewer.v0+json": {
       "columns": [
        {
         "name": "index",
         "rawType": "int64",
         "type": "integer"
        },
        {
         "name": "point_x",
         "rawType": "float64",
         "type": "float"
        },
        {
         "name": "point_y",
         "rawType": "float64",
         "type": "float"
        },
        {
         "name": "offset",
         "rawType": "float64",
         "type": "float"
        },
        {
         "name": "diff_x",
         "rawType": "float64",
         "type": "float"
        },
        {
         "name": "diff_y",
         "rawType": "float64",
         "type": "float"
        },
        {
         "name": "eye",
         "rawType": "object",
         "type": "string"
        },
        {
         "name": "model",
         "rawType": "object",
         "type": "string"
        },
        {
         "name": "onset",
         "rawType": "float64",
         "type": "float"
        }
       ],
       "conversionMethod": "pd.DataFrame",
       "ref": "fc030949-588b-403c-8cbe-1519eade38b6",
       "rows": [
        [
         "0",
         "640.0",
         "512.0",
         "0.48",
         "-22.1",
         "-0.7",
         "left",
         "HV5",
         "0.043"
        ],
        [
         "1",
         "640.0",
         "87.0",
         "0.24",
         "-5.9",
         "-9.3",
         "left",
         "HV5",
         "0.043"
        ],
        [
         "2",
         "640.0",
         "936.0",
         "0.56",
         "24.7",
         "-7.2",
         "left",
         "HV5",
         "0.043"
        ],
        [
         "3",
         "77.0",
         "512.0",
         "0.21",
         "-3.7",
         "8.9",
         "left",
         "HV5",
         "0.043"
        ],
        [
         "4",
         "1202.0",
         "512.0",
         "0.54",
         "-23.4",
         "-8.4",
         "left",
         "HV5",
         "0.043"
        ],
        [
         "0",
         "640.0",
         "512.0",
         "0.34",
         "13.8",
         "-7.2",
         "right",
         "HV5",
         "0.043"
        ],
        [
         "1",
         "640.0",
         "87.0",
         "0.29",
         "7.0",
         "11.3",
         "right",
         "HV5",
         "0.043"
        ],
        [
         "2",
         "640.0",
         "936.0",
         "0.57",
         "6.4",
         "25.3",
         "right",
         "HV5",
         "0.043"
        ],
        [
         "3",
         "77.0",
         "512.0",
         "0.53",
         "-24.3",
         "-2.3",
         "right",
         "HV5",
         "0.043"
        ],
        [
         "4",
         "1202.0",
         "512.0",
         "0.82",
         "6.0",
         "-37.1",
         "right",
         "HV5",
         "0.043"
        ]
       ],
       "shape": {
        "columns": 8,
        "rows": 10
       }
      },
      "text/html": [
       "<div>\n",
       "<style scoped>\n",
       "    .dataframe tbody tr th:only-of-type {\n",
       "        vertical-align: middle;\n",
       "    }\n",
       "\n",
       "    .dataframe tbody tr th {\n",
       "        vertical-align: top;\n",
       "    }\n",
       "\n",
       "    .dataframe thead th {\n",
       "        text-align: right;\n",
       "    }\n",
       "</style>\n",
       "<table border=\"1\" class=\"dataframe\">\n",
       "  <thead>\n",
       "    <tr style=\"text-align: right;\">\n",
       "      <th></th>\n",
       "      <th>point_x</th>\n",
       "      <th>point_y</th>\n",
       "      <th>offset</th>\n",
       "      <th>diff_x</th>\n",
       "      <th>diff_y</th>\n",
       "      <th>eye</th>\n",
       "      <th>model</th>\n",
       "      <th>onset</th>\n",
       "    </tr>\n",
       "  </thead>\n",
       "  <tbody>\n",
       "    <tr>\n",
       "      <th>0</th>\n",
       "      <td>640.0</td>\n",
       "      <td>512.0</td>\n",
       "      <td>0.48</td>\n",
       "      <td>-22.1</td>\n",
       "      <td>-0.7</td>\n",
       "      <td>left</td>\n",
       "      <td>HV5</td>\n",
       "      <td>0.043</td>\n",
       "    </tr>\n",
       "    <tr>\n",
       "      <th>1</th>\n",
       "      <td>640.0</td>\n",
       "      <td>87.0</td>\n",
       "      <td>0.24</td>\n",
       "      <td>-5.9</td>\n",
       "      <td>-9.3</td>\n",
       "      <td>left</td>\n",
       "      <td>HV5</td>\n",
       "      <td>0.043</td>\n",
       "    </tr>\n",
       "    <tr>\n",
       "      <th>2</th>\n",
       "      <td>640.0</td>\n",
       "      <td>936.0</td>\n",
       "      <td>0.56</td>\n",
       "      <td>24.7</td>\n",
       "      <td>-7.2</td>\n",
       "      <td>left</td>\n",
       "      <td>HV5</td>\n",
       "      <td>0.043</td>\n",
       "    </tr>\n",
       "    <tr>\n",
       "      <th>3</th>\n",
       "      <td>77.0</td>\n",
       "      <td>512.0</td>\n",
       "      <td>0.21</td>\n",
       "      <td>-3.7</td>\n",
       "      <td>8.9</td>\n",
       "      <td>left</td>\n",
       "      <td>HV5</td>\n",
       "      <td>0.043</td>\n",
       "    </tr>\n",
       "    <tr>\n",
       "      <th>4</th>\n",
       "      <td>1202.0</td>\n",
       "      <td>512.0</td>\n",
       "      <td>0.54</td>\n",
       "      <td>-23.4</td>\n",
       "      <td>-8.4</td>\n",
       "      <td>left</td>\n",
       "      <td>HV5</td>\n",
       "      <td>0.043</td>\n",
       "    </tr>\n",
       "    <tr>\n",
       "      <th>0</th>\n",
       "      <td>640.0</td>\n",
       "      <td>512.0</td>\n",
       "      <td>0.34</td>\n",
       "      <td>13.8</td>\n",
       "      <td>-7.2</td>\n",
       "      <td>right</td>\n",
       "      <td>HV5</td>\n",
       "      <td>0.043</td>\n",
       "    </tr>\n",
       "    <tr>\n",
       "      <th>1</th>\n",
       "      <td>640.0</td>\n",
       "      <td>87.0</td>\n",
       "      <td>0.29</td>\n",
       "      <td>7.0</td>\n",
       "      <td>11.3</td>\n",
       "      <td>right</td>\n",
       "      <td>HV5</td>\n",
       "      <td>0.043</td>\n",
       "    </tr>\n",
       "    <tr>\n",
       "      <th>2</th>\n",
       "      <td>640.0</td>\n",
       "      <td>936.0</td>\n",
       "      <td>0.57</td>\n",
       "      <td>6.4</td>\n",
       "      <td>25.3</td>\n",
       "      <td>right</td>\n",
       "      <td>HV5</td>\n",
       "      <td>0.043</td>\n",
       "    </tr>\n",
       "    <tr>\n",
       "      <th>3</th>\n",
       "      <td>77.0</td>\n",
       "      <td>512.0</td>\n",
       "      <td>0.53</td>\n",
       "      <td>-24.3</td>\n",
       "      <td>-2.3</td>\n",
       "      <td>right</td>\n",
       "      <td>HV5</td>\n",
       "      <td>0.043</td>\n",
       "    </tr>\n",
       "    <tr>\n",
       "      <th>4</th>\n",
       "      <td>1202.0</td>\n",
       "      <td>512.0</td>\n",
       "      <td>0.82</td>\n",
       "      <td>6.0</td>\n",
       "      <td>-37.1</td>\n",
       "      <td>right</td>\n",
       "      <td>HV5</td>\n",
       "      <td>0.043</td>\n",
       "    </tr>\n",
       "  </tbody>\n",
       "</table>\n",
       "</div>"
      ],
      "text/plain": [
       "   point_x  point_y  offset  diff_x  diff_y    eye model  onset\n",
       "0    640.0    512.0    0.48   -22.1    -0.7   left   HV5  0.043\n",
       "1    640.0     87.0    0.24    -5.9    -9.3   left   HV5  0.043\n",
       "2    640.0    936.0    0.56    24.7    -7.2   left   HV5  0.043\n",
       "3     77.0    512.0    0.21    -3.7     8.9   left   HV5  0.043\n",
       "4   1202.0    512.0    0.54   -23.4    -8.4   left   HV5  0.043\n",
       "0    640.0    512.0    0.34    13.8    -7.2  right   HV5  0.043\n",
       "1    640.0     87.0    0.29     7.0    11.3  right   HV5  0.043\n",
       "2    640.0    936.0    0.57     6.4    25.3  right   HV5  0.043\n",
       "3     77.0    512.0    0.53   -24.3    -2.3  right   HV5  0.043\n",
       "4   1202.0    512.0    0.82     6.0   -37.1  right   HV5  0.043"
      ]
     },
     "execution_count": 11,
     "metadata": {},
     "output_type": "execute_result"
    }
   ],
   "source": [
    "dfs.get('calibrations')"
   ]
  },
  {
   "cell_type": "code",
   "execution_count": null,
   "metadata": {},
   "outputs": [
    {
     "name": "stdout",
     "output_type": "stream",
     "text": [
      "discrete\n",
      "  messages\n",
      "  buttons\n",
      "  inputs\n",
      "  blinks\n",
      "  saccades\n",
      "  fixations\n",
      "samples\n",
      "calibrations\n"
     ]
    }
   ],
   "source": [
    "#查验所有嵌套的键，主键以及次级键\n",
    "def print_all_keys(dictionary, indent=0):\n",
    "    for key in dictionary.keys():\n",
    "        print('  ' * indent + str(key))\n",
    "        if isinstance(dictionary[key], dict):\n",
    "            print_all_keys(dictionary[key], indent + 1)\n",
    "\n",
    "print_all_keys(dfs)"
   ]
  },
  {
   "cell_type": "markdown",
   "metadata": {},
   "source": [
    "```\n",
    "discrete_exported.xlsx：\n",
    "├── messages       # 消息记录\n",
    "├── buttons        # 按钮事件\n",
    "├── inputs         # 输入数据\n",
    "├── blinks         # 眨眼数据\n",
    "├── saccades       # 扫视数据\n",
    "└── fixations      # 注视数据\n",
    "\n",
    "samples_exported.xlsx\n",
    "└── samples        # eyelink采样数据\n",
    "\n",
    "calibrations_exported.xlsx\n",
    "└── calibrations   # 校准数据\n",
    "```"
   ]
  },
  {
   "cell_type": "code",
   "execution_count": null,
   "metadata": {},
   "outputs": [
    {
     "name": "stdout",
     "output_type": "stream",
     "text": [
      "已导出工作表: messages\n",
      "已导出工作表: buttons\n",
      "已导出工作表: inputs\n",
      "已导出工作表: blinks\n",
      "已导出工作表: saccades\n",
      "已导出工作表: fixations\n",
      "\n",
      "文件 discrete_data.xlsx 生成成功！\n"
     ]
    },
    {
     "data": {
      "text/plain": [
       "True"
      ]
     },
     "execution_count": 16,
     "metadata": {},
     "output_type": "execute_result"
    }
   ],
   "source": [
    "import pandas as pd\n",
    "\n",
    "data = dfs\n",
    "def export_discrete_to_excel(data_dict, filename=\"discrete_data.xlsx\"):\n",
    "\n",
    "    try:\n",
    "        with pd.ExcelWriter(filename, engine='openpyxl') as writer:\n",
    "            # 遍历所有次级键\n",
    "            for sheet_name, df in data_dict['discrete'].items():\n",
    "                # 清理工作表名称（Excel限制：最大31字符，无特殊符号）\n",
    "                clean_name = sheet_name[:31].replace(':', '_').replace('?', '_')\n",
    "                \n",
    "                # 将DataFrame写入工作表\n",
    "                df.to_excel(\n",
    "                    writer,\n",
    "                    sheet_name=clean_name,\n",
    "                    index=False,\n",
    "                    header=True\n",
    "                )\n",
    "                print(f\"已导出工作表: {clean_name}\")\n",
    "                \n",
    "        print(f\"\\n文件 {filename} 生成成功！\")\n",
    "        return True\n",
    "    \n",
    "    except Exception as e:\n",
    "        print(f\"导出失败: {str(e)}\")\n",
    "        return False\n",
    "export_discrete_to_excel(data)"
   ]
  },
  {
   "cell_type": "code",
   "execution_count": null,
   "metadata": {},
   "outputs": [
    {
     "name": "stdout",
     "output_type": "stream",
     "text": [
      "主键 [samples] 工作表 [samples] 已导出 (64451 行)\n",
      "\n",
      "文件 samples_data.xlsx 导出成功！\n",
      "主键 [calibrations] 工作表 [calibrations] 已导出 (10 行)\n",
      "\n",
      "文件 calibrations_data.xlsx 导出成功！\n"
     ]
    },
    {
     "data": {
      "text/plain": [
       "True"
      ]
     },
     "execution_count": 18,
     "metadata": {},
     "output_type": "execute_result"
    }
   ],
   "source": [
    "import pandas as pd\n",
    "from openpyxl.utils.exceptions import IllegalCharacterError\n",
    "\n",
    "def export_key_to_excel(data_dict, main_key, filename=None):\n",
    "    \n",
    "    try:\n",
    "        # 自动生成文件名\n",
    "        filename = filename or f\"{main_key}_data.xlsx\"\n",
    "        \n",
    "        # 获取目标主键数据\n",
    "        target_data = data_dict.get(main_key)\n",
    "        \n",
    "        # 空值验证强化\n",
    "        if target_data is None:\n",
    "            print(f\"主键 '{main_key}' 不存在\")\n",
    "            return False\n",
    "        if isinstance(target_data, pd.DataFrame) and target_data.empty:\n",
    "            print(f\"主键 '{main_key}' 数据为空\")\n",
    "            return False\n",
    "        if isinstance(target_data, dict) and not target_data:\n",
    "            print(f\"主键 '{main_key}' 字典为空\")\n",
    "            return False\n",
    "\n",
    "        with pd.ExcelWriter(filename, engine='openpyxl') as writer:\n",
    "            # 类型分支处理\n",
    "            if isinstance(target_data, dict):\n",
    "                # 处理嵌套字典结构\n",
    "                for sub_key, df in target_data.items():\n",
    "                    _write_sheet(writer, sub_key, df, main_key)\n",
    "            elif isinstance(target_data, pd.DataFrame):\n",
    "                # 处理直接DataFrame结构\n",
    "                _write_sheet(writer, main_key, target_data, main_key)\n",
    "            else:\n",
    "                print(f\"主键 '{main_key}' 类型不支持: {type(target_data)}\")\n",
    "                return False\n",
    "\n",
    "        print(f\"\\n文件 {filename} 导出成功！\")\n",
    "        return True\n",
    "\n",
    "    except Exception as e:\n",
    "        print(f\"主键 '{main_key}' 导出失败: {str(e)}\")\n",
    "        return False\n",
    "\n",
    "def _write_sheet(writer, sheet_name, data, main_key):\n",
    "    #写入工作表\n",
    "    try:\n",
    "        # 名称清理\n",
    "        clean_name = str(sheet_name)[:31].translate(\n",
    "            str.maketrans('[]:*?/\\\\', '_'*7)\n",
    "        )\n",
    "        \n",
    "        # 类型转换\n",
    "        if not isinstance(data, pd.DataFrame):\n",
    "            data = pd.DataFrame(data) if isinstance(data, (list, dict)) else pd.DataFrame([data])\n",
    "        \n",
    "        # 空数据检查\n",
    "        if data.empty:\n",
    "            print(f\"主键 [{main_key}] 工作表 [{clean_name}] 数据为空\")\n",
    "            return\n",
    "\n",
    "        # 写入Excel\n",
    "        data.to_excel(\n",
    "            writer,\n",
    "            sheet_name=clean_name,\n",
    "            index=False,\n",
    "            header=True\n",
    "        )\n",
    "        print(f\"主键 [{main_key}] 工作表 [{clean_name}] 已导出 ({len(data)} 行)\")\n",
    "        \n",
    "    except IllegalCharacterError:\n",
    "        print(f\"非法字符，已自动过滤工作表名: {sheet_name} -> {clean_name}\")\n",
    "        data.to_excel(writer, sheet_name='filtered_sheet', index=False)\n",
    "    except Exception as e:\n",
    "        print(f\"工作表 [{clean_name}] 导出异常: {str(e)}\")\n",
    "\n",
    "\n",
    "export_key_to_excel(data, 'samples')\n",
    "\n",
    "export_key_to_excel(data, 'calibrations')"
   ]
  },
  {
   "cell_type": "code",
   "execution_count": null,
   "metadata": {},
   "outputs": [],
   "source": []
  }
 ],
 "metadata": {
  "kernelspec": {
   "display_name": ".venv",
   "language": "python",
   "name": "python3"
  },
  "language_info": {
   "codemirror_mode": {
    "name": "ipython",
    "version": 3
   },
   "file_extension": ".py",
   "mimetype": "text/x-python",
   "name": "python",
   "nbconvert_exporter": "python",
   "pygments_lexer": "ipython3",
   "version": "3.9.10"
  }
 },
 "nbformat": 4,
 "nbformat_minor": 2
}
